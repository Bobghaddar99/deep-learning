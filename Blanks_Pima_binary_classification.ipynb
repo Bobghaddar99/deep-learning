{
  "nbformat": 4,
  "nbformat_minor": 0,
  "metadata": {
    "colab": {
      "provenance": [],
      "include_colab_link": true
    },
    "kernelspec": {
      "name": "python3",
      "display_name": "Python 3"
    }
  },
  "cells": [
    {
      "cell_type": "markdown",
      "metadata": {
        "id": "view-in-github",
        "colab_type": "text"
      },
      "source": [
        "<a href=\"https://colab.research.google.com/github/Bobghaddar99/deep-learning/blob/main/Blanks_Pima_binary_classification.ipynb\" target=\"_parent\"><img src=\"https://colab.research.google.com/assets/colab-badge.svg\" alt=\"Open In Colab\"/></a>"
      ]
    },
    {
      "cell_type": "markdown",
      "metadata": {
        "id": "sRIDoDPqJyUr"
      },
      "source": [
        "#Binary Classification\n",
        "\n",
        "\n",
        "---\n",
        "\n",
        "© 2023, Zaka AI, Inc. All Rights Reserved\n",
        "\n",
        "**Objective:** The goal of this notebook is to build, train and evaluate a Deep Learning (DL) model on a real dataset. We will be doing a binary classification, which means the output of our neural network will be one neuron emitting either a 0 or 1.\n",
        "\n",
        "The required libraries for this exercise are `Keras` for building and training the DL model, `Numpy` for numerical handling and loading of the dataset and `scikit-learn` for validation and datasplit."
      ]
    },
    {
      "cell_type": "markdown",
      "metadata": {
        "id": "D7hsqQL6mXG0"
      },
      "source": [
        "## 1. Load data\n",
        "\n",
        "In this notebook, we are going to use the **Pima Indians diabetes** dataset. This is a standard machine learning dataset from the UCI Machine Learning repository. It describes patient medical record data for Pima Indians and whether they had an onset of diabetes within five years.\n",
        "\n",
        "As such, it is a binary classification problem (onset of diabetes as 1 or not as 0). All of the input variables that describe each patient are numerical.\n",
        "\n",
        "This makes it easy to use directly with neural networks that expect numerical input and output values, and ideal for our first neural network in Keras.\n",
        "\n",
        "The variables can be summarized as follows:\n",
        "\n",
        "**Input Variables (X):**\n",
        "\n",
        "\n",
        "1.   Number of times pregnant\n",
        "2.   Plasma glucose concentration a 2 hours in an oral glucose tolerance test\n",
        "3.   Diastolic blood pressure (mm Hg)\n",
        "4.   Triceps skin fold thickness (mm)\n",
        "5.   2-Hour serum insulin (mu U/ml)\n",
        "6.   Body mass index (weight in kg/(height in m)^2)\n",
        "7.   Diabetes pedigree function\n",
        "8.   Age (years)\n",
        "\n",
        "Output Variables (Y):\n",
        "\n",
        "*   Class variable (0 or 1)\n",
        "\n"
      ]
    },
    {
      "cell_type": "code",
      "metadata": {
        "id": "HuVahF7eloMV"
      },
      "source": [
        "# clone git repo\n",
        "!git clone https://github.com/zaka-ai/intro2dl.git\n",
        "\n",
        "# change directory\n",
        "%cd intro2dl/data/"
      ],
      "execution_count": null,
      "outputs": []
    },
    {
      "cell_type": "code",
      "metadata": {
        "id": "NIu3Id57luLl"
      },
      "source": [
        "import numpy\n",
        "\n",
        "# load pima indians dataset\n",
        "dataset = numpy.loadtxt(\"pima-indians-diabetes.csv\", delimiter=\",\")\n",
        "\n",
        "# split into input (X) and output (Y) variables\n",
        "X = dataset[:,0:8]\n",
        "Y = dataset[:,8]"
      ],
      "execution_count": null,
      "outputs": []
    },
    {
      "cell_type": "markdown",
      "metadata": {
        "id": "FWrfBdRKnKlk"
      },
      "source": [
        "## 2. Define Keras Model\n",
        "\n",
        "Create a Keras Sequential model that has 2 hidden layers, with the `relu` activation function."
      ]
    },
    {
      "cell_type": "code",
      "metadata": {
        "id": "HxsfruZnnSH8"
      },
      "source": [
        "from tensorflow.keras.models import Sequential\n",
        "from tensorflow.keras.layers import Dense\n",
        "\n",
        "def create_model():\n",
        "  # create model\n",
        "\n",
        "\n",
        "  return model\n"
      ],
      "execution_count": null,
      "outputs": []
    },
    {
      "cell_type": "markdown",
      "metadata": {
        "id": "m89-8lpfnenc"
      },
      "source": [
        "## 3. Train Model\n",
        "\n",
        "Before training the model, we have to make sure it's compiled!\n",
        "\n",
        "Training occurs over epochs and each epoch is split into batches.\n",
        "\n",
        "*   **Epoch**: One pass through all of the rows in the training dataset.\n",
        "*   **Batch**: One or more samples considered by the model within an epoch before weights are updated\n",
        "\n",
        "\n",
        "Let's train the model for 150 epochs with batch size equals to 10."
      ]
    },
    {
      "cell_type": "code",
      "metadata": {
        "id": "rOX9fIslng06"
      },
      "source": [
        "model = create_model()\n",
        "\n",
        "# Compile model with binary crossentropy\n",
        "\n",
        "\n",
        "# Fit the model\n",
        "\n",
        "print(\"Model trained!\")"
      ],
      "execution_count": null,
      "outputs": []
    },
    {
      "cell_type": "markdown",
      "metadata": {
        "id": "Q8GuQLxVnmLs"
      },
      "source": [
        "## 4. Evaluate Model\n",
        "\n",
        "We have trained our neural network on the entire dataset and we can evaluate the performance of the network on the same dataset.\n",
        "\n",
        "\n",
        "This will only give us an idea of how well we have modeled the dataset, but no idea of how well the algorithm might perform on new data."
      ]
    },
    {
      "cell_type": "code",
      "metadata": {
        "id": "_KvwAijVnk8p"
      },
      "source": [
        "# evaluate the model\n",
        "scores = model.evaluate(X, Y)\n",
        "print(\"\\n%s: %.2f%%\" % (model.metrics_names[1], scores[1]*100))"
      ],
      "execution_count": null,
      "outputs": []
    },
    {
      "cell_type": "markdown",
      "metadata": {
        "id": "8M-sc-xjnq1M"
      },
      "source": [
        "## 5. Make Predictions\n",
        "\n",
        "Making predictions is as easy as calling the ***predict()*** function on the model. We are using a sigmoid activation function on the output layer, so the predictions will be a probability in the range between 0 and 1. We can easily convert them into a crisp binary prediction for this classification task by rounding them.\n",
        "\n",
        "**Correction:** The function **predict_classes()** has been deprecated since the recording of the video and has been updated in the notebook link below and replaced with **predict** and **numpy.where**\n",
        "\n",
        "\n",
        "We can use ***numpy.where*** on the probability output to predict crisp classes directly by setting a threshold of 0.5.\n",
        "So any prediction above the threshold is assigned to 1, otherwise 0."
      ]
    },
    {
      "cell_type": "code",
      "metadata": {
        "id": "QOSjMfECn29G"
      },
      "source": [
        "# make class predictions with the model\n",
        "#returned values are float\n",
        "predictions = model.predict(X)\n",
        "#set the threshold and convert predictions\n",
        "threshold=0.5\n",
        "classes=numpy.where(predictions > threshold, 1,0)\n",
        "\n",
        "\n",
        "# summarize the first 5 cases\n",
        "for i in range(5):\n",
        "\tprint('%s => %d (expected %d)' % (X[i].tolist(), classes[i], Y[i]))"
      ],
      "execution_count": null,
      "outputs": []
    },
    {
      "cell_type": "markdown",
      "metadata": {
        "id": "RfXssV5BpfeJ"
      },
      "source": [
        "# Automatic data split\n",
        "\n",
        "Let's update the code to train the model on a sub-set of the whole dataset (the training set) and use another part for evaluation.\n",
        "\n",
        "We'll use 67% for training and 33% for testing."
      ]
    },
    {
      "cell_type": "code",
      "metadata": {
        "id": "zlddJn9Yprjd"
      },
      "source": [
        "# create new model\n",
        "model = create_model()\n",
        "\n",
        "# compile the model\n",
        "model.compile(loss = \"binary_crossentropy\", optimizer = \"adam\", metrics = ['accuracy'])\n",
        "\n",
        "# Fit the model\n",
        "model.fit(X, Y, validation_split=0.33, epochs=150, batch_size=10)"
      ],
      "execution_count": null,
      "outputs": []
    },
    {
      "cell_type": "markdown",
      "metadata": {
        "id": "trISU5HyoK3N"
      },
      "source": [
        "# Manual Data Split\n",
        "\n",
        "Evaluate the model with manual data split. Let's also use 67% for training and 33% for testing.\n"
      ]
    },
    {
      "cell_type": "code",
      "metadata": {
        "id": "IfXkri28JwSl"
      },
      "source": [
        "from sklearn.model_selection import train_test_split\n",
        "\n",
        "# split into 67% for train and 33% for test\n",
        "\n",
        "#create a new model\n",
        "\n",
        "#compile the model\n",
        "\n",
        "#train the model\n"
      ],
      "execution_count": null,
      "outputs": []
    }
  ]
}