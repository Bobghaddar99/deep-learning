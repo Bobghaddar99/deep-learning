{
  "nbformat": 4,
  "nbformat_minor": 0,
  "metadata": {
    "colab": {
      "provenance": [],
      "include_colab_link": true
    },
    "kernelspec": {
      "name": "python3",
      "display_name": "Python 3"
    },
    "accelerator": "GPU"
  },
  "cells": [
    {
      "cell_type": "markdown",
      "metadata": {
        "id": "view-in-github",
        "colab_type": "text"
      },
      "source": [
        "<a href=\"https://colab.research.google.com/github/Bobghaddar99/deep-learning/blob/main/Blanks_Convolutions_%26_Pooling.ipynb\" target=\"_parent\"><img src=\"https://colab.research.google.com/assets/colab-badge.svg\" alt=\"Open In Colab\"/></a>"
      ]
    },
    {
      "cell_type": "markdown",
      "metadata": {
        "id": "ARofjv2lVTc7"
      },
      "source": [
        "#Convolutional Neural Networks\n",
        "\n",
        "---\n",
        "© 2023, Zaka AI, Inc. All Rights Reserved\n",
        "\n",
        "**Objective:** The goal from this exercise is to learn how to build convolutional and pooling neural networks using `Keras`. It includes introducing the `Conv2D` and pooling layers from Keras, building sequential models with stacked layers, padding to fix the border problem and an example on how convolution and padding changes an image matrix.\n",
        "\n",
        "The final part is a hands-on task on building a CNN and training an image classification model on a training dataset."
      ]
    },
    {
      "cell_type": "markdown",
      "metadata": {
        "id": "9R2pqwPNMnaC"
      },
      "source": [
        "## Stacking Convolutional Layers\n",
        "Keras' `Conv2D` allows you to add convolutional layers to a sequential model similarly to how you would a dense layer. You specify the number of filters, the kernel size and the input shape of images."
      ]
    },
    {
      "cell_type": "code",
      "metadata": {
        "id": "lFtydkTSMni7"
      },
      "source": [
        "# example of stacked convolutional layers\n",
        "from tensorflow.keras.models import Sequential\n",
        "from tensorflow.keras.layers import Conv2D\n",
        "\n",
        "# create model\n",
        "model = Sequential()\n",
        "model.add(Conv2D(filters=1, kernel_size=(3,3), input_shape=(8, 8, 1)))\n",
        "model.add(Conv2D(filters=1, kernel_size=(3,3)))\n",
        "# summarize model\n",
        "model.summary()"
      ],
      "execution_count": null,
      "outputs": []
    },
    {
      "cell_type": "markdown",
      "metadata": {
        "id": "JsNjF_pkP9tI"
      },
      "source": [
        "### Fix border effect problem with padding\n",
        "Padding allows you to keep the information from border pixels and avoid losing them during convolution and decreasing the size of your feature map by adding extra rows and columns of pixels around the borders of the image."
      ]
    },
    {
      "cell_type": "code",
      "metadata": {
        "id": "RJiSXSKUQFQm"
      },
      "source": [
        "# example a convolutional layer with padding\n",
        "from tensorflow.keras.models import Sequential\n",
        "from tensorflow.keras.layers import Conv2D\n",
        "\n",
        "# create model\n",
        "model = Sequential()\n",
        "model.add(Conv2D(1, (3,3), padding='same', input_shape=(8, 8, 1)))\n",
        "\n",
        "# summarize model\n",
        "model.summary()"
      ],
      "execution_count": null,
      "outputs": []
    },
    {
      "cell_type": "markdown",
      "metadata": {
        "id": "5p4uyWvNRDfc"
      },
      "source": [
        "### Convolutional layer with larger strides\n",
        "Increasing strides makes convolution faster with less operations to fulfill and downsizes the feature map but might cause losing important features from the image."
      ]
    },
    {
      "cell_type": "code",
      "metadata": {
        "id": "MztbZSTiRDn3"
      },
      "source": [
        "# example a deep cnn with stride = 2\n",
        "from tensorflow.keras.models import Sequential\n",
        "from tensorflow.keras.layers import Conv2D, MaxPooling2D\n",
        "\n",
        "# create model\n",
        "model = Sequential()\n",
        "model.add(Conv2D(1, (3,3), strides=(2, 2), input_shape=(8, 8, 1)))\n",
        "\n",
        "# summarize model\n",
        "model.summary()"
      ],
      "execution_count": null,
      "outputs": []
    },
    {
      "cell_type": "markdown",
      "metadata": {
        "id": "cAGQtBOhXW0u"
      },
      "source": [
        "## Pooling Layers\n",
        "Adding pooling layers to the network also downsamples the feature image but without losing as much information as increasing the stride in convolutional layers. The most popular pooling techniques are average pooling and maximum"
      ]
    },
    {
      "cell_type": "code",
      "metadata": {
        "id": "bdsgzdZhXYqV"
      },
      "source": [
        "# example a deep cnn with pooling\n",
        "from tensorflow.keras.models import Sequential\n",
        "from tensorflow.keras.layers import Conv2D, AveragePooling2D\n",
        "\n",
        "# create model\n",
        "model = Sequential()\n",
        "model.add(Conv2D(1, (3,3), activation='relu', input_shape=(8, 8, 1)))\n",
        "model.add(AveragePooling2D())\n",
        "\n",
        "# summarize model\n",
        "model.summary()"
      ],
      "execution_count": null,
      "outputs": []
    },
    {
      "cell_type": "markdown",
      "metadata": {
        "id": "5CacGc_bQY9w"
      },
      "source": [
        "### Stacked CNN with padding and pooling\n",
        "You can stack multiple CNN layers with padding to maintain the same image size or shape across the network and after pooling layers equally."
      ]
    },
    {
      "cell_type": "code",
      "metadata": {
        "id": "pYjQPwTaQWle"
      },
      "source": [
        "# example a deep cnn with padding and pooling\n",
        "from tensorflow.keras.models import Sequential\n",
        "from tensorflow.keras.layers import Conv2D, MaxPooling2D\n",
        "\n",
        "# create model\n",
        "model = Sequential()\n",
        "model.add(Conv2D(1, (3,3), padding='same', input_shape=(8, 8, 1)))\n",
        "model.add(Conv2D(1, (3,3), padding='same'))\n",
        "model.add(MaxPooling2D())\n",
        "model.add(Conv2D(1, (3,3), padding='same'))\n",
        "\n",
        "# summarize model\n",
        "model.summary()"
      ],
      "execution_count": null,
      "outputs": []
    },
    {
      "cell_type": "markdown",
      "metadata": {
        "id": "dvtsh_zVdIk0"
      },
      "source": [
        "Image output shape is preserved along the convolutions, then halfed in pooling but maintains the shape after final convolution."
      ]
    },
    {
      "cell_type": "markdown",
      "metadata": {
        "id": "YAH7hZPV_ZfF"
      },
      "source": [
        "## Examples of 2D Convolutional layer\n",
        "Let's take an example and see what the output of a single convolution looks like. The data is an image presented in array form and the kernel weights are specified by us to avoid training the network using `set_weights`.\n",
        "\n",
        "To do so, let's create three functions creating three different models as their return:\n",
        "1. `create_oneCNN` which creates a single layer CNN without padding\n",
        "2. `create_model_with_strides` which creates a single layer CNN without padding and a stride set to 2\n",
        "3. `create_model_with_pool` which creates a two-layer CNN with average pooling\n",
        "\n",
        "We can then create a `proNet` function which builds our image array and kernel weights for the model created and shows us the result of passing the image through the network."
      ]
    },
    {
      "cell_type": "markdown",
      "metadata": {
        "id": "efdbK2igf1eg"
      },
      "source": [
        "First, let's import all the necessary modules"
      ]
    },
    {
      "cell_type": "code",
      "metadata": {
        "id": "Qpw48y65f4lM"
      },
      "source": [
        "from numpy import asarray\n",
        "from tensorflow.keras.models import Sequential\n",
        "from tensorflow.keras.layers import Conv2D, AveragePooling2D"
      ],
      "execution_count": null,
      "outputs": []
    },
    {
      "cell_type": "markdown",
      "metadata": {
        "id": "lHtczPlMeKdI"
      },
      "source": [
        "###1. Single layer CNN without padding"
      ]
    },
    {
      "cell_type": "code",
      "metadata": {
        "id": "DPAF1-4mBsjL"
      },
      "source": [
        "def create_oneCNN():\n",
        "  # create model\n",
        "  model = Sequential()\n",
        "  model.add(Conv2D(filters=1, kernel_size=(3,3), input_shape=(8, 8, 1)))\n",
        "  print(model.summary())\n",
        "\n",
        "  return model"
      ],
      "execution_count": null,
      "outputs": []
    },
    {
      "cell_type": "markdown",
      "metadata": {
        "id": "xQDAfERXehbw"
      },
      "source": [
        "###2. Single layer CNN without padding and stride set to 2"
      ]
    },
    {
      "cell_type": "code",
      "metadata": {
        "id": "OrhLnwDzB80A"
      },
      "source": [
        "def create_model_with_strides():\n",
        "  # create model\n",
        "  model = Sequential()\n",
        "  model.add(Conv2D(filters=1, kernel_size=(3,3), strides=(2,2), input_shape=(8, 8, 1)))\n",
        "  print(model.summary())\n",
        "\n",
        "  return model"
      ],
      "execution_count": null,
      "outputs": []
    },
    {
      "cell_type": "markdown",
      "metadata": {
        "id": "x2fZzBQWfOra"
      },
      "source": [
        "###3. Two-layered network with CNN and pooling"
      ]
    },
    {
      "cell_type": "code",
      "metadata": {
        "id": "iX8_bLIECGJe"
      },
      "source": [
        "def create_model_with_pool():\n",
        "  # create model\n",
        "  model = Sequential()\n",
        "  model.add(Conv2D(filters=1, kernel_size=(3,3), input_shape=(8, 8, 1)))\n",
        "  model.add(AveragePooling2D())\n",
        "  print(model.summary())\n",
        "\n",
        "  return model"
      ],
      "execution_count": null,
      "outputs": []
    },
    {
      "cell_type": "markdown",
      "metadata": {
        "id": "lThsD7xxgt8C"
      },
      "source": [
        "###Product Function"
      ]
    },
    {
      "cell_type": "code",
      "metadata": {
        "id": "DmIdO5Xhgz10"
      },
      "source": [
        "def proNet(model):\n",
        "  # define input data\n",
        "  data = [[0, 0, 0, 1, 1, 0, 0, 0],\n",
        "\t\t\t\t  [0, 0, 0, 1, 1, 0, 0, 0],\n",
        "\t\t\t\t  [0, 0, 0, 1, 1, 0, 0, 0],\n",
        "\t\t\t\t  [0, 0, 0, 1, 1, 0, 0, 0],\n",
        "\t\t\t\t  [0, 0, 0, 1, 1, 0, 0, 0],\n",
        "\t\t\t\t  [0, 0, 0, 1, 1, 0, 0, 0],\n",
        "\t\t\t\t  [0, 0, 0, 1, 1, 0, 0, 0],\n",
        "\t\t\t\t  [0, 0, 0, 1, 1, 0, 0, 0]]\n",
        "  data = asarray(data)\n",
        "  data = data.reshape(1, 8, 8, 1)\n",
        "\n",
        "  # define a vertical line detector\n",
        "  detector = [[[[0]],[[1]],[[0]]],\n",
        "             [[[0]],[[1]],[[0]]],\n",
        "              [[[0]],[[1]],[[0]]]]\n",
        "  weights = [asarray(detector), asarray([0.0])]\n",
        "\n",
        "  # store the weights in the model\n",
        "  model.set_weights(weights)\n",
        "  # apply filter to input data\n",
        "  yhat = model.predict(data)\n",
        "  for r in range(yhat.shape[1]):\n",
        "\t  # print each column in the row\n",
        "\t  print([yhat[0,r,c,0] for c in range(yhat.shape[2])])"
      ],
      "execution_count": null,
      "outputs": []
    },
    {
      "cell_type": "markdown",
      "metadata": {
        "id": "ItsNNaozhhph"
      },
      "source": [
        "###Application\n",
        "Let's apply the convolution and pooling networks architectures and filters we just created on our data using each model we built.\n",
        "\n",
        "Starting with a regular one layer CNN"
      ]
    },
    {
      "cell_type": "code",
      "metadata": {
        "id": "_LAKEnFih8nF"
      },
      "source": [
        "model = create_oneCNN()\n",
        "proNet(model)"
      ],
      "execution_count": null,
      "outputs": []
    },
    {
      "cell_type": "markdown",
      "metadata": {
        "id": "Pexvl9hCiBqW"
      },
      "source": [
        "CNN with stride"
      ]
    },
    {
      "cell_type": "code",
      "metadata": {
        "id": "0O_Lrq-siGPM"
      },
      "source": [
        "model = create_model_with_strides()\n",
        "proNet(model)"
      ],
      "execution_count": null,
      "outputs": []
    },
    {
      "cell_type": "markdown",
      "metadata": {
        "id": "wocJAr3PiLLH"
      },
      "source": [
        "CNN with pooling"
      ]
    },
    {
      "cell_type": "code",
      "metadata": {
        "id": "y5xBCkYsiNUz"
      },
      "source": [
        "model = create_model_with_pool()\n",
        "proNet(model)"
      ],
      "execution_count": null,
      "outputs": []
    },
    {
      "cell_type": "markdown",
      "metadata": {
        "id": "DIXyZ1NWau34"
      },
      "source": [
        "# Task\n",
        "##CNN and training\n"
      ]
    },
    {
      "cell_type": "markdown",
      "metadata": {
        "id": "uhfH0XGxcC1t"
      },
      "source": [
        "Build a CNN and train an image classification model on the data we gathered"
      ]
    },
    {
      "cell_type": "code",
      "metadata": {
        "id": "KakpTgUiAxu3"
      },
      "source": [
        "!git clone https://github.com/zaka-ai/computer-vision-course.git"
      ],
      "execution_count": null,
      "outputs": []
    },
    {
      "cell_type": "code",
      "metadata": {
        "id": "7yry18yBayWj"
      },
      "source": [
        "# FILL BLANKS\n"
      ],
      "execution_count": null,
      "outputs": []
    }
  ]
}