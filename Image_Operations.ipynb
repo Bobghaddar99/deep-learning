{
  "cells": [
    {
      "cell_type": "markdown",
      "metadata": {
        "id": "view-in-github",
        "colab_type": "text"
      },
      "source": [
        "<a href=\"https://colab.research.google.com/github/Bobghaddar99/deep-learning/blob/main/Image_Operations.ipynb\" target=\"_parent\"><img src=\"https://colab.research.google.com/assets/colab-badge.svg\" alt=\"Open In Colab\"/></a>"
      ]
    },
    {
      "cell_type": "markdown",
      "metadata": {
        "id": "KJ37Gv8Hq7YP"
      },
      "source": [
        "© 2021 Zaka AI, Inc. All Rights Reserved"
      ]
    },
    {
      "cell_type": "markdown",
      "metadata": {
        "id": "3jI6vJbQOH3K"
      },
      "source": [
        "#Image Operations\n",
        "\n",
        "**Objective:** The goal from this exercise is to learn how to import images with the OpenCV library and apply basic functions on it such as addition, substraction, blending and transformations."
      ]
    },
    {
      "cell_type": "markdown",
      "metadata": {
        "id": "gCO0JzGHOjTZ"
      },
      "source": [
        "##Loading the images"
      ]
    },
    {
      "cell_type": "markdown",
      "metadata": {
        "id": "lbGvDQ1PuP7E"
      },
      "source": [
        "Get 2 images to work with and download them using `curl`:"
      ]
    },
    {
      "cell_type": "code",
      "execution_count": null,
      "metadata": {
        "colab": {
          "base_uri": "https://localhost:8080/"
        },
        "id": "uUsSEtHAp8Lg",
        "outputId": "7bf963ec-2726-4faf-d852-43b06fa02a80"
      },
      "outputs": [
        {
          "output_type": "stream",
          "name": "stdout",
          "text": [
            "  % Total    % Received % Xferd  Average Speed   Time    Time     Time  Current\n",
            "                                 Dload  Upload   Total   Spent    Left  Speed\n",
            "100  119k  100  119k    0     0  1615k      0 --:--:-- --:--:-- --:--:-- 1615k\n",
            "  % Total    % Received % Xferd  Average Speed   Time    Time     Time  Current\n",
            "                                 Dload  Upload   Total   Spent    Left  Speed\n",
            "100  112k  100  112k    0     0  2077k      0 --:--:-- --:--:-- --:--:-- 2077k\n"
          ]
        }
      ],
      "source": [
        "!curl -o img1.jpg https://files.readme.io/069a96b-4d870d7-546212389.jpg\n",
        "!curl -o img2.jpg https://threejsfundamentals.org/threejs/resources/images/flower-2.jpg"
      ]
    },
    {
      "cell_type": "code",
      "execution_count": null,
      "metadata": {
        "id": "5-YCbz_0m-J9"
      },
      "outputs": [],
      "source": [
        "print(img1.shape)"
      ]
    },
    {
      "cell_type": "markdown",
      "metadata": {
        "id": "D_nKSPcUOvNd"
      },
      "source": [
        "Read the images using OpenCV and cv2"
      ]
    },
    {
      "cell_type": "code",
      "execution_count": null,
      "metadata": {
        "id": "p8HNAqdp144p"
      },
      "outputs": [],
      "source": [
        "import cv2\n",
        "\n",
        "img1 = cv2.imread(\"img1\", cv2.IMREAD_COLOR)\n",
        "img2 = cv2.imread(\"img2\", cv2.IMREAD_COLOR)\n",
        "\n",
        "print (img1.shape)\n",
        "print (img2.shape)"
      ]
    },
    {
      "cell_type": "markdown",
      "metadata": {
        "id": "b2XlYKxNO1fi"
      },
      "source": [
        "If working on a local IDE, there is no need for this patch to show the images we downloaded and read. This is strictly for Google Colaboratory projects."
      ]
    },
    {
      "cell_type": "code",
      "execution_count": null,
      "metadata": {
        "id": "qfaNEQo1uWCu"
      },
      "outputs": [],
      "source": [
        "from google.colab.patches import cv2_imshow\n",
        "\n",
        "cv2_imshow(img1)\n",
        "cv2_imshow(img2)"
      ]
    },
    {
      "cell_type": "markdown",
      "metadata": {
        "id": "cBaTqAb4pztu"
      },
      "source": [
        "## Arithmetic Operations on Images"
      ]
    },
    {
      "cell_type": "markdown",
      "metadata": {
        "id": "9OnL_q_BuICD"
      },
      "source": [
        "### Accessing and Modifying pixel values\n"
      ]
    },
    {
      "cell_type": "markdown",
      "metadata": {
        "id": "JoDP4nqePFcc"
      },
      "source": [
        "Accessing only one pixel of the image"
      ]
    },
    {
      "cell_type": "code",
      "execution_count": null,
      "metadata": {
        "id": "vaMW_-WUvDh_"
      },
      "outputs": [],
      "source": [
        "# how to access 1 pixel\n",
        "px1 = img1[100,100]\n",
        "px2 = img1[50,50]\n",
        "print(px1)\n",
        "print(px2)"
      ]
    },
    {
      "cell_type": "code",
      "execution_count": null,
      "metadata": {
        "id": "qF89at6KtMoc"
      },
      "outputs": [],
      "source": [
        "pr=px1+px2\n",
        "print(pr)"
      ]
    },
    {
      "cell_type": "markdown",
      "metadata": {
        "id": "AN9BZUgWPJgg"
      },
      "source": [
        "Accessing only the blue channel of this pixel. Remember, OpenCV works in the BGR color space."
      ]
    },
    {
      "cell_type": "code",
      "execution_count": null,
      "metadata": {
        "id": "JVQxk3MPvRqy"
      },
      "outputs": [],
      "source": [
        "# accessing only blue pixel\n",
        "blue = img1[100,100,0]\n",
        "print(blue)"
      ]
    },
    {
      "cell_type": "markdown",
      "metadata": {
        "id": "WOzdSbLvPQRk"
      },
      "source": [
        "Modifying the value of a pixel"
      ]
    },
    {
      "cell_type": "code",
      "execution_count": null,
      "metadata": {
        "id": "P-QervMwvslE"
      },
      "outputs": [],
      "source": [
        "# You can modify the pixel values the same way.\n",
        "img1[100,100] = [255,255,255]\n",
        "print(img1[100,100])"
      ]
    },
    {
      "cell_type": "markdown",
      "metadata": {
        "id": "lA4Lw6oxPVdM"
      },
      "source": [
        "Displaying the result with the altered pixel"
      ]
    },
    {
      "cell_type": "code",
      "execution_count": null,
      "metadata": {
        "id": "vPuWWngzvw5h"
      },
      "outputs": [],
      "source": [
        "cv2_imshow(img1)"
      ]
    },
    {
      "cell_type": "markdown",
      "metadata": {
        "id": "y5T4lTTtw_w6"
      },
      "source": [
        "### Splitting and Merging Image Channels\n"
      ]
    },
    {
      "cell_type": "markdown",
      "metadata": {
        "id": "mw5clEcLPdXk"
      },
      "source": [
        "Splitting using `cv2.split()` and then merging with a shuffled color space using `cv2.merge()`"
      ]
    },
    {
      "cell_type": "code",
      "execution_count": null,
      "metadata": {
        "id": "SOBOw4KJxA5i"
      },
      "outputs": [],
      "source": [
        "b,g,r = cv2.split(img1)\n",
        "\n",
        "img = cv2.merge((r,g,b))\n",
        "\n",
        "cv2_imshow(img)"
      ]
    },
    {
      "cell_type": "markdown",
      "metadata": {
        "id": "GBRP0if9p2PT"
      },
      "source": [
        "### Image Addition\n",
        "\n",
        "You can add two images by OpenCV function, `cv2.add()` or simply by numpy operation, res = img1 + img2. Both images should be of same depth and type, or second image can just be a scalar value."
      ]
    },
    {
      "cell_type": "code",
      "execution_count": null,
      "metadata": {
        "id": "sLE_HwebqRUs"
      },
      "outputs": [],
      "source": [
        "# add images\n",
        "res = cv2.add(img1, img2)\n",
        "\n",
        "# show result\n",
        "cv2_imshow(res)"
      ]
    },
    {
      "cell_type": "code",
      "execution_count": null,
      "metadata": {
        "id": "WhJeXEdas6lR"
      },
      "outputs": [],
      "source": [
        "p1=img1[1]\n",
        "print(p1)"
      ]
    },
    {
      "cell_type": "markdown",
      "metadata": {
        "id": "HLG-2xlGPq2k"
      },
      "source": [
        "Subtracting images"
      ]
    },
    {
      "cell_type": "code",
      "execution_count": null,
      "metadata": {
        "id": "KX47sbqZADnz"
      },
      "outputs": [],
      "source": [
        "# subtract images\n",
        "res = cv2.subtract(img1, img2)\n",
        "\n",
        "# show result\n",
        "cv2_imshow(res)"
      ]
    },
    {
      "cell_type": "markdown",
      "metadata": {
        "id": "CQUEjUtVPvNV"
      },
      "source": [
        "Numerical addition of pixels: an image is a NumPy array so we can add them together but we get a different image from before. If you are adding two pixels: 120 and 200 = 320 > 255, then OpenCV limits this pixel to 255, but NumPy takes the modulo, remainder of the division so 320/255 has a remainder of 65 for example."
      ]
    },
    {
      "cell_type": "code",
      "execution_count": null,
      "metadata": {
        "id": "yLrt7yyeDuZk"
      },
      "outputs": [],
      "source": [
        "res = img1 + img2\n",
        "cv2_imshow(res)"
      ]
    },
    {
      "cell_type": "markdown",
      "metadata": {
        "id": "6lfu53S9r7FH"
      },
      "source": [
        "### Image Blending\n",
        "\n",
        "This is also image addition, but different weights are given to images so that it gives a feeling of blending or transparency."
      ]
    },
    {
      "cell_type": "code",
      "execution_count": null,
      "metadata": {
        "id": "ipT_rcMMsBgz"
      },
      "outputs": [],
      "source": [
        "blending = cv2.addWeighted(img1, 0.80, img2, 0.30, 0)\n",
        "cv2_imshow(blending)"
      ]
    },
    {
      "cell_type": "markdown",
      "metadata": {
        "id": "o13Myght1cyk"
      },
      "source": [
        "##Transformations"
      ]
    },
    {
      "cell_type": "markdown",
      "metadata": {
        "id": "BoC1WcJ7Qbqf"
      },
      "source": [
        "###Scaling\n",
        "Scaling an image is resizing it into a new shape and a different number of pixels."
      ]
    },
    {
      "cell_type": "code",
      "execution_count": null,
      "metadata": {
        "id": "MKFFRLXE1eA1"
      },
      "outputs": [],
      "source": [
        "height = img1.shape[0]\n",
        "width = img1.shape[1]\n",
        "\n",
        "dst = cv2.resize(img1, (int(width*2), int(height/2)))\n",
        "print(dst.shape)\n",
        "cv2_imshow(dst)"
      ]
    },
    {
      "cell_type": "markdown",
      "metadata": {
        "id": "vhv_lIbE7Isj"
      },
      "source": [
        "### Rotation\n",
        "Rotation can be done in OpenCV in two ways: the explicit way and the easier, limited way. In the first one, we have to specify a rotation matrix centered at the center of the image, with optionally scaling the image when needed. We then need to apply `warpAffine` to get the rotated image.\n",
        "\n",
        "The simpler way is faster and can be done with one code line but is limited to only three options of angles."
      ]
    },
    {
      "cell_type": "code",
      "execution_count": null,
      "metadata": {
        "id": "PFj1bdov7K0i"
      },
      "outputs": [],
      "source": [
        "center = (width / 2, height / 2)\n",
        "\n",
        "angle90 = 90\n",
        "angle180 = 180\n",
        "angle270 = 270\n",
        "angle = 37\n",
        "\n",
        "scale =  0.5\n",
        "\n",
        "# Perform the counter clockwise rotation holding at the center\n",
        "# 30 degrees\n",
        "#M = cv2.getRotationMatrix2D(center, angle, scale)\n",
        "M = cv2.getRotationMatrix2D(center, angle, scale)\n",
        "rotated = cv2.warpAffine(img1, M, (height, width))\n",
        "\n",
        "cv2_imshow(rotated)"
      ]
    },
    {
      "cell_type": "markdown",
      "metadata": {
        "id": "DSgqeu5mvKmf"
      },
      "source": [
        "The simpler, limited way:"
      ]
    },
    {
      "cell_type": "code",
      "execution_count": null,
      "metadata": {
        "id": "NBXGfIjNCmID"
      },
      "outputs": [],
      "source": [
        "# an easier way :)\n",
        "\n",
        "rot90 = cv2.rotate(img1, cv2.ROTATE_90_COUNTERCLOCKWISE)\n",
        "cv2_imshow(rot90)"
      ]
    },
    {
      "cell_type": "markdown",
      "metadata": {
        "id": "PpPB81Ke-vao"
      },
      "source": [
        "### Translation\n",
        "Let's use the `warpAffine` function and create multiple translation matrices with different directions to demonstrate OpenCV's translation abilities.\n",
        "\n",
        "Translation Matrix Shape:\n",
        "```\n",
        "[ 1  0  tx ]\n",
        "\n",
        "[ 0  1  ty ]\n",
        "```\n",
        "\n",
        "\n",
        "\n",
        "Using the first matrix:"
      ]
    },
    {
      "cell_type": "code",
      "execution_count": null,
      "metadata": {
        "cellView": "both",
        "id": "1Q6FudtyA3SW"
      },
      "outputs": [],
      "source": [
        "import numpy as np\n",
        "\n",
        "translation_matrix = np.float32([ [1,0,70], [0,1,110] ])\n",
        "img_translation = cv2.warpAffine(img1, translation_matrix, (width, height))\n",
        "\n",
        "cv2_imshow(img_translation)"
      ]
    },
    {
      "cell_type": "markdown",
      "metadata": {
        "id": "aYA3XdlvvFll"
      },
      "source": [
        "The second matrix:"
      ]
    },
    {
      "cell_type": "code",
      "execution_count": null,
      "metadata": {
        "id": "M-JMX8p9F00-"
      },
      "outputs": [],
      "source": [
        "import numpy as np\n",
        "\n",
        "translation_matrix = np.float32([ [1,0,-70], [0,1,110] ])\n",
        "img_translation = cv2.warpAffine(img1, translation_matrix, (width, height))\n",
        "\n",
        "cv2_imshow(img_translation)"
      ]
    },
    {
      "cell_type": "markdown",
      "metadata": {
        "id": "gEYlosX4vG84"
      },
      "source": [
        "The third matrix:"
      ]
    },
    {
      "cell_type": "code",
      "execution_count": null,
      "metadata": {
        "id": "1BSXsmw3F7wy"
      },
      "outputs": [],
      "source": [
        "import numpy as np\n",
        "\n",
        "translation_matrix = np.float32([ [1,0,70], [0,1,110] ])\n",
        "img_translation = cv2.warpAffine(img1, translation_matrix, (width+70, height+110))\n",
        "\n",
        "cv2_imshow(img_translation)"
      ]
    }
  ],
  "metadata": {
    "colab": {
      "provenance": [],
      "include_colab_link": true
    },
    "kernelspec": {
      "display_name": "Python 3",
      "name": "python3"
    }
  },
  "nbformat": 4,
  "nbformat_minor": 0
}