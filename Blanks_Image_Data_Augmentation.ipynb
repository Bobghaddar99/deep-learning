{
  "nbformat": 4,
  "nbformat_minor": 0,
  "metadata": {
    "colab": {
      "provenance": [],
      "toc_visible": true,
      "include_colab_link": true
    },
    "kernelspec": {
      "name": "python3",
      "display_name": "Python 3"
    }
  },
  "cells": [
    {
      "cell_type": "markdown",
      "metadata": {
        "id": "view-in-github",
        "colab_type": "text"
      },
      "source": [
        "<a href=\"https://colab.research.google.com/github/Bobghaddar99/deep-learning/blob/main/Blanks_Image_Data_Augmentation.ipynb\" target=\"_parent\"><img src=\"https://colab.research.google.com/assets/colab-badge.svg\" alt=\"Open In Colab\"/></a>"
      ]
    },
    {
      "cell_type": "markdown",
      "metadata": {
        "id": "78efMTmYXDDf"
      },
      "source": [
        "#Data Augmentation\n",
        "\n",
        "---\n",
        "\n",
        "© 2023, Zaka AI, Inc. All Rights Reserved\n",
        "\n",
        "**Objective:** The goal from this exercise is to learn how to use Keras' `ImageDataGenerator` class to augment a dataset through multiple processes such as horizontal flip, rotation and zoom."
      ]
    },
    {
      "cell_type": "markdown",
      "metadata": {
        "id": "eWYZpVTcXfZ7"
      },
      "source": [
        "## Preparing the data"
      ]
    },
    {
      "cell_type": "markdown",
      "metadata": {
        "id": "UoX-5cSUXr3i"
      },
      "source": [
        "###Github Repo"
      ]
    },
    {
      "cell_type": "code",
      "metadata": {
        "id": "XULPJm4tzm05"
      },
      "source": [
        "# clone github repo\n",
        "!git clone https://github.com/zaka-ai/computer-vision-course.git"
      ],
      "execution_count": null,
      "outputs": []
    },
    {
      "cell_type": "markdown",
      "metadata": {
        "id": "tuy45mKCGZat"
      },
      "source": [
        "### Importing modules"
      ]
    },
    {
      "cell_type": "code",
      "metadata": {
        "id": "nn2Hht3pE0TN"
      },
      "source": [
        "from numpy import expand_dims\n",
        "from tensorflow.keras.preprocessing.image import load_img\n",
        "from tensorflow.keras.preprocessing.image import img_to_array\n",
        "from tensorflow.keras.preprocessing.image import ImageDataGenerator\n",
        "from matplotlib import pyplot"
      ],
      "execution_count": null,
      "outputs": []
    },
    {
      "cell_type": "markdown",
      "metadata": {
        "id": "3a23xiiaE7Q5"
      },
      "source": [
        "### Loading the data"
      ]
    },
    {
      "cell_type": "code",
      "metadata": {
        "id": "NCCluVbuE3JM"
      },
      "source": [
        "# load the image\n",
        "path = \"computer-vision-course/deep_learning/data/baboon.jpg\"\n",
        "img = load_img(path)\n",
        "\n",
        "# convert to numpy array\n",
        "data = img_to_array(img)\n",
        "\n",
        "print(data.shape)\n",
        "\n",
        "# expand dimension to one sample\n",
        "samples = expand_dims(data, 0)\n",
        "\n",
        "print(samples.shape)"
      ],
      "execution_count": null,
      "outputs": []
    },
    {
      "cell_type": "markdown",
      "metadata": {
        "id": "SFXOoGAeHjyZ"
      },
      "source": [
        "Let's define a function that takes the training iteration as input and generates different images"
      ]
    },
    {
      "cell_type": "code",
      "metadata": {
        "id": "tb-eW3EHFHxj"
      },
      "source": [
        "def show_examples(it):\n",
        "  pyplot.figure(figsize=(15,10))\n",
        "  # generate samples and plot\n",
        "  for i in range(9):\n",
        "\t  # define subplot\n",
        "\t  pyplot.subplot(330 + 1 + i)\n",
        "\n",
        "    # generate batch of images\n",
        "\t  batch = it.next()\n",
        "\n",
        "    # convert to unsigned integers for viewing\n",
        "\t  image = batch[0].astype('uint32')\n",
        "\n",
        "    # plot raw pixel data\n",
        "\t  pyplot.imshow(image)\n",
        "\n",
        "  # show the figure\n",
        "  pyplot.show()"
      ],
      "execution_count": null,
      "outputs": []
    },
    {
      "cell_type": "markdown",
      "metadata": {
        "id": "S3HgHonoF-Eq"
      },
      "source": [
        "## Horizontal and Vertical Shift Augmentation"
      ]
    },
    {
      "cell_type": "markdown",
      "metadata": {
        "id": "9OG5tqtWIDBe"
      },
      "source": [
        "Horizontal Shift: augment images by randomly shifting them on the x-axis through their width to create new images"
      ]
    },
    {
      "cell_type": "code",
      "metadata": {
        "id": "-vLK7fUwGArT"
      },
      "source": [
        "# create image data augmentation generator\n",
        "datagen = ImageDataGenerator(width_shift_range=[-200,200])\n",
        "\n",
        "# prepare iterator\n",
        "it = datagen.flow(samples, batch_size=1)\n",
        "\n",
        "# run and show examples\n",
        "show_examples(it)"
      ],
      "execution_count": null,
      "outputs": []
    },
    {
      "cell_type": "markdown",
      "metadata": {
        "id": "a15AWwssH_qP"
      },
      "source": [
        "Vertical Shift: augment images by randomly shifting them on the y-axis through their height to create new images"
      ]
    },
    {
      "cell_type": "code",
      "metadata": {
        "id": "BcKt0amhGCZW"
      },
      "source": [
        "# create image data augmentation generator\n",
        "datagen = ImageDataGenerator(height_shift_range=0.5, fill_mode=\"constant\")\n",
        "\n",
        "# prepare iterator\n",
        "it = datagen.flow(samples, batch_size=1)\n",
        "\n",
        "# run and show examples\n",
        "show_examples(it)"
      ],
      "execution_count": null,
      "outputs": []
    },
    {
      "cell_type": "markdown",
      "metadata": {
        "id": "eo7mXNMmguMV"
      },
      "source": [
        "## Horizontal/Vertical flip augmentation\n",
        "Flip images about their x-axis whenever `vertical_flip` is set to true to get more images that are flipped upside down"
      ]
    },
    {
      "cell_type": "code",
      "metadata": {
        "id": "E3mxXVcKguVn"
      },
      "source": [
        "# create image data augmentation generator\n",
        "datagen = ImageDataGenerator(horizontal_flip=True)\n",
        "\n",
        "# prepare iterator\n",
        "it = datagen.flow(samples, batch_size=1)\n",
        "\n",
        "# run and show examples\n",
        "show_examples(it)"
      ],
      "execution_count": null,
      "outputs": []
    },
    {
      "cell_type": "markdown",
      "metadata": {
        "id": "u4t7SSbeg-Nz"
      },
      "source": [
        "## Rotation augmentation\n",
        "Rotate images about their center for augmentation"
      ]
    },
    {
      "cell_type": "code",
      "metadata": {
        "id": "LZuP91X0g-nB"
      },
      "source": [
        "# create image data augmentation generator\n",
        "datagen = ImageDataGenerator(rotation_range=90)\n",
        "\n",
        "# prepare iterator\n",
        "it = datagen.flow(samples, batch_size=1)\n",
        "\n",
        "# run and show examples\n",
        "show_examples(it)"
      ],
      "execution_count": null,
      "outputs": []
    },
    {
      "cell_type": "markdown",
      "metadata": {
        "id": "YRPBqrrfhj0D"
      },
      "source": [
        "## Brightness Augmentation\n",
        "Get more images through varying brightness of the base images"
      ]
    },
    {
      "cell_type": "code",
      "metadata": {
        "id": "VgXyRPcQhmZ0"
      },
      "source": [
        "# create image data augmentation generator\n",
        "datagen = ImageDataGenerator(brightness_range=[0.2,1.5])\n",
        "\n",
        "# prepare iterator\n",
        "it = datagen.flow(samples, batch_size=1)\n",
        "\n",
        "# run and show examples\n",
        "show_examples(it)"
      ],
      "execution_count": null,
      "outputs": []
    },
    {
      "cell_type": "markdown",
      "metadata": {
        "id": "YDeslqiCiUrU"
      },
      "source": [
        "## Zoom Augmentation\n",
        "Zoom in on images to get augmented results for a dataset"
      ]
    },
    {
      "cell_type": "code",
      "metadata": {
        "id": "pc_wpFtUiX-X"
      },
      "source": [
        "# create image data augmentation generator\n",
        "datagen = ImageDataGenerator(zoom_range=[0.5,1.0])\n",
        "\n",
        "# prepare iterator\n",
        "it = datagen.flow(samples, batch_size=1)\n",
        "\n",
        "# run and show examples\n",
        "show_examples(it)"
      ],
      "execution_count": null,
      "outputs": []
    },
    {
      "cell_type": "markdown",
      "metadata": {
        "id": "m1_k9pGxZCXs"
      },
      "source": [
        "# Task: Apply augmentation on the dataset"
      ]
    },
    {
      "cell_type": "code",
      "metadata": {
        "id": "Th0RM-6nI696"
      },
      "source": [
        "# FILL BLANKS\n"
      ],
      "execution_count": null,
      "outputs": []
    }
  ]
}